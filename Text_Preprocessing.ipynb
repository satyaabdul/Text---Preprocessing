{
  "nbformat": 4,
  "nbformat_minor": 0,
  "metadata": {
    "colab": {
      "name": "Text Preprocessing.ipynb",
      "provenance": [],
      "toc_visible": true,
      "authorship_tag": "ABX9TyOPgfshjWLCh85ScX3JsFS+",
      "include_colab_link": true
    },
    "kernelspec": {
      "name": "python3",
      "display_name": "Python 3"
    }
  },
  "cells": [
    {
      "cell_type": "markdown",
      "metadata": {
        "id": "view-in-github",
        "colab_type": "text"
      },
      "source": [
        "<a href=\"https://colab.research.google.com/github/satyaabdul/Text-Preprocessing/blob/master/Text_Preprocessing.ipynb\" target=\"_parent\"><img src=\"https://colab.research.google.com/assets/colab-badge.svg\" alt=\"Open In Colab\"/></a>"
      ]
    },
    {
      "cell_type": "markdown",
      "metadata": {
        "id": "kDlRJ_fh0End",
        "colab_type": "text"
      },
      "source": [
        "# **Text Preprocessing**\n",
        "\n",
        "\n",
        "\n",
        "0.   Persiapan data\n",
        "1.   Case Folding\n",
        "2.   Filtering\n",
        "3.   Stopword Removal\n",
        "4.   Tokenizing\n",
        " \n"
      ]
    },
    {
      "cell_type": "markdown",
      "metadata": {
        "id": "06rA0hui0c3F",
        "colab_type": "text"
      },
      "source": [
        "## **Persiapan Data**"
      ]
    },
    {
      "cell_type": "code",
      "metadata": {
        "id": "gHzc_bOhVSdb",
        "colab_type": "code",
        "colab": {
          "base_uri": "https://localhost:8080/",
          "height": 54
        },
        "outputId": "2b0882f9-a92d-46aa-d00d-0d7ee091cd77"
      },
      "source": [
        "#buka file masukan dalam data\n",
        "with open(\"/content/tweet-data.txt\",\"r\") as file:\n",
        "  data = file.read()\n",
        "\n",
        "#print data\n",
        "data"
      ],
      "execution_count": 120,
      "outputs": [
        {
          "output_type": "execute_result",
          "data": {
            "text/plain": [
              "\"Siang, bisa langsung ditanyakan ke Kebidanan FK UB. Terima kasih. https://t.co/5P0KDHlK9r\\nJadwal Kegiatan Dies Natalis ke-54 UB. Catat tanggalnya dan semarakkan acaranya. https://t.co/YZpBV1YFJK\\nComing soon : Rangkaian Acara Dies Natalis ke-54 Universitas Brawijaya https://t.co/5xgu0Gj828\\nRT @UB_IO: Beasiswa AMINEF Untuk Pengajar Bahasa Inggris di UB. Deadline aplikasi tanggal 15 April 2017 https://t.co/Kg5Ked96bf @UB_Official\\nRT @UB_IO: Beasiswa untuk Training dan Studi Lanjut ke Belgia. @UB_Official @UBTV_Brawijaya https://t.co/eEHYiNzbrf\\nRT @UB_IT: Periksa Soal: cek jawaban kamu.Untuk kembali ke soal,klik nomornya.Tombol SELESAI di klik jika semua soal sudah dijawab &amp; nilai…\\nRT @UB_IT: Tes kompetensi TI selama 90 menit/90 soal (30 Excel,30 P.Point,30 Word). Soal tiap orang berbeda krn bank soal lebih dari 3000.…\\nRT @UnileverIDN: Prosesi penutupan Bulan Kesehatan Gigi Nasional 2016 di FKG Univ Brawijaya #BKGN #Pepsodent @UB_Official @TanyaPepsodent @…\\nSelamat siang. Untuk jadwal penerimaan mahasiswa S2 bisa dilihat di https://t.co/1Uuv3lGe1O atau di… https://t.co/CYvxFREg3M\\nRT @kempanrb: bersama Korpri meneguhkan netralitas dan meningkatkan profesionalisme Aparatur Sipil Negara. Selamat HUT KORPRI ke 45!! https…\\nRT @UB_IO: Sosialisasi Studi S2 dan Beasiswa dari Swedia. hari ini, 16.00-17.00 di Lt.8 Rektorat UB, Free entry, kuota terbatas 150 kursi.…\\nRT @UB_IO: Kesempatan terbaru untuk studi S2 dan S3 di luar negeri dengan beasiswa. Informasi lebih lengkap https://t.co/u0RkZJTtsV @UB_Off…\\nRT @UB_IO: Don't forget, British Winter Education Fair, Today 13.00 at Gedung Kebudayaan Mahasiswa UB https://t.co/dsel5k3Ii9 @UB_Official\\nRT @UB_IO: Program Pertukaran Pelajar dari AMINEF untuk D1, D3 dan S1 https://t.co/rwV7N7sAX6 @UB_Official\\nRT @UB_IO: Fullbright Scholarship untuk S2 dan S3 telah dibuka, silahkan mengunjungi https://t.co/FbNchPlT9W @UB_Official\\nRT @UB_IO: British Winter Education Fair. Don't miss it. Scholarships info and many more @UB_Official @UBTV_Brawijaya https://t.co/iA0e6uHB…\\nRT @UB_IO: International Student Summit adalah agenda tahunan DIKTI untuk kompetisi mahasiswa asing dan lokal se-Indonesia @UB_Official\\nRT @UB_IO: Sosialisasi International Student Summit and Competition by UNAIR. Hari ini Kamis 13/10/16 pukul 12.00, di Lt8 Rektorat. Free. @…\\nRT @UB_IT: Pengumuman Jadwal Test Sertifikasi Kompetensi TI Gelombang 54\\nhttps://t.co/vhHiWN0ENq\\nRT @UB_IO: Nuffic Neso dan DAAD menawarkan beasiswa pendidikan untuk S1 hingga S3, summer course, dan pelatihan https://t.co/u0RkZJTtsV @UB…\\nRT @UB_IO: Salah satu partner UB, Ritsumeikan University membuka Short-term Exchange Program https://t.co/fc4FcPASoN @UB_Official\\nRektor : selamat dan berbahagialah menjadi bagian dari 12.000 mahasiswa baru UB. Selamat belajar. #RajaBrawijaya2016 #Pusaka54\\nPelepasan balon oleh Rektor dan Dirjen dari Kemenristekdikti https://t.co/kBReodtkIk\\nDengan dibunyikannya gong, secara resmi telah dimulainya pelaksanaan PKK-Maba 2016 #RajaBrawijaya2016 #Pusaka54 https://t.co/Xe7Hfj3TqO\\nRektor Universitas Brawijaya beserta jajaran dan undangan memasuki lapangan upacara #RajaBrawijaya2016 #Pusaka54\\nAyo Dukung! https://t.co/ZuCSWMojex\\n#INFO 4. Pintu gerbang dibuka pada Selasa, 30 Agustus 2016, pukul 09.00 WIB-15.30 WIB dan 17.00 WIB-selesai #RajaBrawijaya2016\\n#INFO 3. Pintu Gerbang keluar yang dibuka : Pintu Gerbang Pos Veteran dan Pintu Gerbang Pos BNI'46 #RajaBrawijaya2016\\n#INFO 2. Penutupan dilaksanakan pada hari : Selasa, 30 Agustus 2016, pukul 06.30-09.00 WIB dan 15.30-17.00 WIB #RajaBrawijaya2016\\n#INFO 1. Penutupan jalan masuk pada : Pintu Gerbang Pos Veteran, Pos BNI'46, Pos Jl, M. Haryono (Makam) dan Pos KPRI #RajaBrawijaya2016\\n#INFO Sehubungan dengan akan diselenggarakannya PKK-Maba #RajaBrawijaya2016 dengan ini diberitahukan bahwa :\\n\""
            ]
          },
          "metadata": {
            "tags": []
          },
          "execution_count": 120
        }
      ]
    },
    {
      "cell_type": "markdown",
      "metadata": {
        "id": "68vZhA3wfwYv",
        "colab_type": "text"
      },
      "source": [
        "## **Case Folding**"
      ]
    },
    {
      "cell_type": "code",
      "metadata": {
        "id": "vs3_43BzXsCL",
        "colab_type": "code",
        "colab": {
          "base_uri": "https://localhost:8080/",
          "height": 54
        },
        "outputId": "dbf6c6d0-7444-4e78-bf96-cb8694440096"
      },
      "source": [
        "import re\n",
        "\n",
        "#hilangakan url\n",
        "url = re.sub('(https:\\/\\/)+[\\w._%+-\\/]{1,20}',' ',data)\n",
        "#hilangkan retweet\n",
        "retweet = re.sub('RT+\\s+@+[\\w._%+-\\/]{1,50}',' ',url)\n",
        "#hilangkan mention\n",
        "mention = re.sub('@+[\\w._%+-\\/]{1,50}',' ',retweet)\n",
        "#hitangkan sepecial character\n",
        "sc = re.sub(r'[^\\w]',' ',mention)\n",
        "#hilangkan whitespace berlebih\n",
        "clean = re.sub(r'\\s\\s+',' ',sc)\n",
        "#lower case\n",
        "lower = clean.lower()\n",
        "\n",
        "#print text\n",
        "lower"
      ],
      "execution_count": 121,
      "outputs": [
        {
          "output_type": "execute_result",
          "data": {
            "text/plain": [
              "'siang bisa langsung ditanyakan ke kebidanan fk ub terima kasih jadwal kegiatan dies natalis ke 54 ub catat tanggalnya dan semarakkan acaranya coming soon rangkaian acara dies natalis ke 54 universitas brawijaya beasiswa aminef untuk pengajar bahasa inggris di ub deadline aplikasi tanggal 15 april 2017 beasiswa untuk training dan studi lanjut ke belgia periksa soal cek jawaban kamu untuk kembali ke soal klik nomornya tombol selesai di klik jika semua soal sudah dijawab amp nilai tes kompetensi ti selama 90 menit 90 soal 30 excel 30 p point 30 word soal tiap orang berbeda krn bank soal lebih dari 3000 prosesi penutupan bulan kesehatan gigi nasional 2016 di fkg univ brawijaya bkgn pepsodent selamat siang untuk jadwal penerimaan mahasiswa s2 bisa dilihat di atau di bersama korpri meneguhkan netralitas dan meningkatkan profesionalisme aparatur sipil negara selamat hut korpri ke 45 https sosialisasi studi s2 dan beasiswa dari swedia hari ini 16 00 17 00 di lt 8 rektorat ub free entry kuota terbatas 150 kursi kesempatan terbaru untuk studi s2 dan s3 di luar negeri dengan beasiswa informasi lebih lengkap don t forget british winter education fair today 13 00 at gedung kebudayaan mahasiswa ub program pertukaran pelajar dari aminef untuk d1 d3 dan s1 fullbright scholarship untuk s2 dan s3 telah dibuka silahkan mengunjungi british winter education fair don t miss it scholarships info and many more international student summit adalah agenda tahunan dikti untuk kompetisi mahasiswa asing dan lokal se indonesia sosialisasi international student summit and competition by unair hari ini kamis 13 10 16 pukul 12 00 di lt8 rektorat free pengumuman jadwal test sertifikasi kompetensi ti gelombang 54 nuffic neso dan daad menawarkan beasiswa pendidikan untuk s1 hingga s3 summer course dan pelatihan salah satu partner ub ritsumeikan university membuka short term exchange program rektor selamat dan berbahagialah menjadi bagian dari 12 000 mahasiswa baru ub selamat belajar rajabrawijaya2016 pusaka54 pelepasan balon oleh rektor dan dirjen dari kemenristekdikti dengan dibunyikannya gong secara resmi telah dimulainya pelaksanaan pkk maba 2016 rajabrawijaya2016 pusaka54 rektor universitas brawijaya beserta jajaran dan undangan memasuki lapangan upacara rajabrawijaya2016 pusaka54 ayo dukung info 4 pintu gerbang dibuka pada selasa 30 agustus 2016 pukul 09 00 wib 15 30 wib dan 17 00 wib selesai rajabrawijaya2016 info 3 pintu gerbang keluar yang dibuka pintu gerbang pos veteran dan pintu gerbang pos bni 46 rajabrawijaya2016 info 2 penutupan dilaksanakan pada hari selasa 30 agustus 2016 pukul 06 30 09 00 wib dan 15 30 17 00 wib rajabrawijaya2016 info 1 penutupan jalan masuk pada pintu gerbang pos veteran pos bni 46 pos jl m haryono makam dan pos kpri rajabrawijaya2016 info sehubungan dengan akan diselenggarakannya pkk maba rajabrawijaya2016 dengan ini diberitahukan bahwa '"
            ]
          },
          "metadata": {
            "tags": []
          },
          "execution_count": 121
        }
      ]
    },
    {
      "cell_type": "markdown",
      "metadata": {
        "id": "_6rM9p-ywRwY",
        "colab_type": "text"
      },
      "source": [
        "## **Filtering**"
      ]
    },
    {
      "cell_type": "markdown",
      "metadata": {
        "id": "fOH_rpADw4X1",
        "colab_type": "text"
      },
      "source": [
        "Stopword Removal menggunakan Sastrawi"
      ]
    },
    {
      "cell_type": "code",
      "metadata": {
        "id": "VnfeHDx3woNc",
        "colab_type": "code",
        "colab": {}
      },
      "source": [
        "# !pip install sastrawi"
      ],
      "execution_count": 0,
      "outputs": []
    },
    {
      "cell_type": "code",
      "metadata": {
        "id": "FyQq5c0Yd2Ls",
        "colab_type": "code",
        "colab": {
          "base_uri": "https://localhost:8080/",
          "height": 54
        },
        "outputId": "69b217bc-8cab-421c-a22e-5132746f3916"
      },
      "source": [
        "#stopword removal\n",
        "from Sastrawi.StopWordRemover.StopWordRemoverFactory import StopWordRemoverFactory\n",
        "\n",
        "#buat stopword\n",
        "factory = StopWordRemoverFactory()\n",
        "stopword = factory.create_stop_word_remover()\n",
        "\n",
        "#hilangkan stopword pada kalimat\n",
        "stop = stopword.remove(lower)\n",
        "\n",
        "#print kalimat setelah di stopword\n",
        "print(stop)"
      ],
      "execution_count": 123,
      "outputs": [
        {
          "output_type": "stream",
          "text": [
            "siang langsung ditanyakan kebidanan fk ub terima kasih jadwal kegiatan dies natalis 54 ub catat tanggalnya semarakkan acaranya coming soon rangkaian acara dies natalis 54 universitas brawijaya beasiswa aminef pengajar bahasa inggris ub deadline aplikasi tanggal 15 april 2017 beasiswa training studi lanjut belgia periksa soal cek jawaban kamu kembali soal klik nomornya tombol selesai klik semua soal dijawab amp nilai tes kompetensi ti selama 90 menit 90 soal 30 excel 30 p point 30 word soal tiap orang berbeda krn bank soal lebih 3000 prosesi penutupan bulan kesehatan gigi nasional 2016 fkg univ brawijaya bkgn pepsodent selamat siang jadwal penerimaan mahasiswa s2 dilihat atau bersama korpri meneguhkan netralitas meningkatkan profesionalisme aparatur sipil negara selamat hut korpri 45 https sosialisasi studi s2 beasiswa swedia hari 16 00 17 00 lt 8 rektorat ub free entry kuota terbatas 150 kursi kesempatan terbaru studi s2 s3 luar negeri beasiswa informasi lebih lengkap don t forget british winter education fair today 13 00 at gedung kebudayaan mahasiswa ub program pertukaran pelajar aminef d1 d3 s1 fullbright scholarship s2 s3 dibuka silahkan mengunjungi british winter education fair don t miss it scholarships info and many more international student summit agenda tahunan dikti kompetisi mahasiswa asing lokal se indonesia sosialisasi international student summit and competition by unair hari kamis 13 10 16 pukul 12 00 lt8 rektorat free pengumuman jadwal test sertifikasi kompetensi ti gelombang 54 nuffic neso daad menawarkan beasiswa pendidikan s1 hingga s3 summer course pelatihan salah satu partner ub ritsumeikan university membuka short term exchange program rektor selamat berbahagialah menjadi bagian 12 000 mahasiswa baru ub selamat belajar rajabrawijaya2016 pusaka54 pelepasan balon rektor dirjen kemenristekdikti dibunyikannya gong resmi dimulainya pelaksanaan pkk maba 2016 rajabrawijaya2016 pusaka54 rektor universitas brawijaya beserta jajaran undangan memasuki lapangan upacara rajabrawijaya2016 pusaka54 ayo dukung info 4 pintu gerbang dibuka selasa 30 agustus 2016 pukul 09 00 wib 15 30 wib 17 00 wib selesai rajabrawijaya2016 info 3 pintu gerbang keluar dibuka pintu gerbang pos veteran pintu gerbang pos bni 46 rajabrawijaya2016 info 2 penutupan dilaksanakan hari selasa 30 agustus 2016 pukul 06 30 09 00 wib 15 30 17 00 wib rajabrawijaya2016 info 1 penutupan jalan masuk pintu gerbang pos veteran pos bni 46 pos jl m haryono makam pos kpri rajabrawijaya2016 info sehubungan akan diselenggarakannya pkk maba rajabrawijaya2016 ini diberitahukan \n"
          ],
          "name": "stdout"
        }
      ]
    },
    {
      "cell_type": "markdown",
      "metadata": {
        "id": "_NMSdrtcy0Jh",
        "colab_type": "text"
      },
      "source": [
        "## **Stemming**"
      ]
    },
    {
      "cell_type": "code",
      "metadata": {
        "id": "HRXcy6eHzRGK",
        "colab_type": "code",
        "colab": {
          "base_uri": "https://localhost:8080/",
          "height": 54
        },
        "outputId": "46f92dd6-8758-4a27-be81-0d09eee7b358"
      },
      "source": [
        "#stemming dengan sastrawi\n",
        "from Sastrawi.Stemmer.StemmerFactory import StemmerFactory\n",
        "\n",
        "#buat stemmer\n",
        "factory = StemmerFactory()\n",
        "stemmer = factory.create_stemmer()\n",
        "\n",
        "stem = stemmer.stem(stop)\n",
        "\n",
        "print(stem)"
      ],
      "execution_count": 124,
      "outputs": [
        {
          "output_type": "stream",
          "text": [
            "siang langsung tanya bidan fk ub terima kasih jadwal giat dies natalis 54 ub catat tanggal semarak acara coming soon rangkai acara dies natalis 54 universitas brawijaya beasiswa aminef ajar bahasa inggris ub deadline aplikasi tanggal 15 april 2017 beasiswa training studi lanjut belgia periksa soal cek jawab kamu kembali soal klik nomor tombol selesai klik semua soal jawab amp nilai tes kompetensi ti lama 90 menit 90 soal 30 excel 30 p point 30 word soal tiap orang beda krn bank soal lebih 3000 prosesi tutup bulan sehat gigi nasional 2016 fkg univ brawijaya bkgn pepsodent selamat siang jadwal terima mahasiswa s2 lihat atau sama korpri teguh netralitas tingkat profesionalisme aparatur sipil negara selamat hut korpri 45 https sosialisasi studi s2 beasiswa swedia hari 16 00 17 00 lt 8 rektorat ub free entry kuota batas 150 kursi sempat baru studi s2 s3 luar negeri beasiswa informasi lebih lengkap don t forget british winter education fair today 13 00 at gedung budaya mahasiswa ub program tukar ajar aminef d1 d3 s1 fullbright scholarship s2 s3 buka silah unjung british winter education fair don t miss it scholarships info and many more international student summit agenda tahun dikti kompetisi mahasiswa asing lokal se indonesia sosialisasi international student summit and competition by unair hari kamis 13 10 16 pukul 12 00 lt8 rektorat free umum jadwal test sertifikasi kompetensi ti gelombang 54 nuffic neso daad tawar beasiswa didik s1 hingga s3 summer course latih salah satu partner ub ritsumeikan university buka short term exchange program rektor selamat bahagia jadi bagi 12 000 mahasiswa baru ub selamat ajar rajabrawijaya2016 pusaka54 lepas balon rektor dirjen kemenristekdikti bunyi gong resmi mula laksana pkk maba 2016 rajabrawijaya2016 pusaka54 rektor universitas brawijaya serta jajar undang pasuk lapang upacara rajabrawijaya2016 pusaka54 ayo dukung info 4 pintu gerbang buka selasa 30 agustus 2016 pukul 09 00 wib 15 30 wib 17 00 wib selesai rajabrawijaya2016 info 3 pintu gerbang keluar buka pintu gerbang pos veteran pintu gerbang pos bni 46 rajabrawijaya2016 info 2 tutup laksana hari selasa 30 agustus 2016 pukul 06 30 09 00 wib 15 30 17 00 wib rajabrawijaya2016 info 1 tutup jalan masuk pintu gerbang pos veteran pos bni 46 pos jl m haryono makam pos kpri rajabrawijaya2016 info hubung akan selenggara pkk maba rajabrawijaya2016 ini diberitahukan\n"
          ],
          "name": "stdout"
        }
      ]
    },
    {
      "cell_type": "markdown",
      "metadata": {
        "id": "tX68XZhWk9Nq",
        "colab_type": "text"
      },
      "source": [
        "## **Tokenizing**"
      ]
    },
    {
      "cell_type": "code",
      "metadata": {
        "id": "s269Qt8hmbeK",
        "colab_type": "code",
        "colab": {}
      },
      "source": [
        "# !pip install nltk\n",
        "# nltk.download('punkt')"
      ],
      "execution_count": 0,
      "outputs": []
    },
    {
      "cell_type": "code",
      "metadata": {
        "id": "X-G10C76gLKq",
        "colab_type": "code",
        "colab": {
          "base_uri": "https://localhost:8080/",
          "height": 54
        },
        "outputId": "41038ec4-795d-446c-e072-6f17ad478e0f"
      },
      "source": [
        "#NLTK Tokenizing\n",
        "from nltk import word_tokenize\n",
        "\n",
        "#tokenisasi dengan NLTK\n",
        "token = nltk.word_tokenize(stem)\n",
        "\n",
        "print(token)\n",
        "\n"
      ],
      "execution_count": 126,
      "outputs": [
        {
          "output_type": "stream",
          "text": [
            "['siang', 'langsung', 'tanya', 'bidan', 'fk', 'ub', 'terima', 'kasih', 'jadwal', 'giat', 'dies', 'natalis', '54', 'ub', 'catat', 'tanggal', 'semarak', 'acara', 'coming', 'soon', 'rangkai', 'acara', 'dies', 'natalis', '54', 'universitas', 'brawijaya', 'beasiswa', 'aminef', 'ajar', 'bahasa', 'inggris', 'ub', 'deadline', 'aplikasi', 'tanggal', '15', 'april', '2017', 'beasiswa', 'training', 'studi', 'lanjut', 'belgia', 'periksa', 'soal', 'cek', 'jawab', 'kamu', 'kembali', 'soal', 'klik', 'nomor', 'tombol', 'selesai', 'klik', 'semua', 'soal', 'jawab', 'amp', 'nilai', 'tes', 'kompetensi', 'ti', 'lama', '90', 'menit', '90', 'soal', '30', 'excel', '30', 'p', 'point', '30', 'word', 'soal', 'tiap', 'orang', 'beda', 'krn', 'bank', 'soal', 'lebih', '3000', 'prosesi', 'tutup', 'bulan', 'sehat', 'gigi', 'nasional', '2016', 'fkg', 'univ', 'brawijaya', 'bkgn', 'pepsodent', 'selamat', 'siang', 'jadwal', 'terima', 'mahasiswa', 's2', 'lihat', 'atau', 'sama', 'korpri', 'teguh', 'netralitas', 'tingkat', 'profesionalisme', 'aparatur', 'sipil', 'negara', 'selamat', 'hut', 'korpri', '45', 'https', 'sosialisasi', 'studi', 's2', 'beasiswa', 'swedia', 'hari', '16', '00', '17', '00', 'lt', '8', 'rektorat', 'ub', 'free', 'entry', 'kuota', 'batas', '150', 'kursi', 'sempat', 'baru', 'studi', 's2', 's3', 'luar', 'negeri', 'beasiswa', 'informasi', 'lebih', 'lengkap', 'don', 't', 'forget', 'british', 'winter', 'education', 'fair', 'today', '13', '00', 'at', 'gedung', 'budaya', 'mahasiswa', 'ub', 'program', 'tukar', 'ajar', 'aminef', 'd1', 'd3', 's1', 'fullbright', 'scholarship', 's2', 's3', 'buka', 'silah', 'unjung', 'british', 'winter', 'education', 'fair', 'don', 't', 'miss', 'it', 'scholarships', 'info', 'and', 'many', 'more', 'international', 'student', 'summit', 'agenda', 'tahun', 'dikti', 'kompetisi', 'mahasiswa', 'asing', 'lokal', 'se', 'indonesia', 'sosialisasi', 'international', 'student', 'summit', 'and', 'competition', 'by', 'unair', 'hari', 'kamis', '13', '10', '16', 'pukul', '12', '00', 'lt8', 'rektorat', 'free', 'umum', 'jadwal', 'test', 'sertifikasi', 'kompetensi', 'ti', 'gelombang', '54', 'nuffic', 'neso', 'daad', 'tawar', 'beasiswa', 'didik', 's1', 'hingga', 's3', 'summer', 'course', 'latih', 'salah', 'satu', 'partner', 'ub', 'ritsumeikan', 'university', 'buka', 'short', 'term', 'exchange', 'program', 'rektor', 'selamat', 'bahagia', 'jadi', 'bagi', '12', '000', 'mahasiswa', 'baru', 'ub', 'selamat', 'ajar', 'rajabrawijaya2016', 'pusaka54', 'lepas', 'balon', 'rektor', 'dirjen', 'kemenristekdikti', 'bunyi', 'gong', 'resmi', 'mula', 'laksana', 'pkk', 'maba', '2016', 'rajabrawijaya2016', 'pusaka54', 'rektor', 'universitas', 'brawijaya', 'serta', 'jajar', 'undang', 'pasuk', 'lapang', 'upacara', 'rajabrawijaya2016', 'pusaka54', 'ayo', 'dukung', 'info', '4', 'pintu', 'gerbang', 'buka', 'selasa', '30', 'agustus', '2016', 'pukul', '09', '00', 'wib', '15', '30', 'wib', '17', '00', 'wib', 'selesai', 'rajabrawijaya2016', 'info', '3', 'pintu', 'gerbang', 'keluar', 'buka', 'pintu', 'gerbang', 'pos', 'veteran', 'pintu', 'gerbang', 'pos', 'bni', '46', 'rajabrawijaya2016', 'info', '2', 'tutup', 'laksana', 'hari', 'selasa', '30', 'agustus', '2016', 'pukul', '06', '30', '09', '00', 'wib', '15', '30', '17', '00', 'wib', 'rajabrawijaya2016', 'info', '1', 'tutup', 'jalan', 'masuk', 'pintu', 'gerbang', 'pos', 'veteran', 'pos', 'bni', '46', 'pos', 'jl', 'm', 'haryono', 'makam', 'pos', 'kpri', 'rajabrawijaya2016', 'info', 'hubung', 'akan', 'selenggara', 'pkk', 'maba', 'rajabrawijaya2016', 'ini', 'diberitahukan']\n"
          ],
          "name": "stdout"
        }
      ]
    },
    {
      "cell_type": "markdown",
      "metadata": {
        "id": "1-C12To3MkwJ",
        "colab_type": "text"
      },
      "source": [
        "## **Refrences**"
      ]
    },
    {
      "cell_type": "markdown",
      "metadata": {
        "id": "ofexfxlRMpX_",
        "colab_type": "text"
      },
      "source": [
        "https://github.com/fathanick/text-preprocessing/blob/master/preprocessing.ipynb\n",
        "\n",
        "https://stackoverflow.com/questions/11331982/how-to-remove-any-url-within-a-string-in-python\n",
        "\n",
        "https://code.tutsplus.com/tutorials/8-regular-expressions-you-should-know--net-6149\n",
        "\n",
        "https://docs.python.org/3/library/re.html\n",
        "\n",
        "https://codereview.stackexchange.com/questions/186614/text-cleaning-script-producing-lowercase-words-with-minimal-punctuation\n",
        "\n",
        "https://gist.github.com/MrEliptik/b3f16179aa2f530781ef8ca9a16499af\n",
        "\n",
        "https://medium.com/@datamonsters/text-preprocessing-in-python-steps-tools-and-examples-bf025f872908\n",
        "\n",
        "https://medium.com/@ksnugroho/dasar-text-preprocessing-dengan-python-a4fa52608ffe\n",
        "\n",
        "https://towardsdatascience.com/nlp-text-preprocessing-a-practical-guide-and-template-d80874676e79\n",
        "\n",
        "https://regexr.com/"
      ]
    }
  ]
}